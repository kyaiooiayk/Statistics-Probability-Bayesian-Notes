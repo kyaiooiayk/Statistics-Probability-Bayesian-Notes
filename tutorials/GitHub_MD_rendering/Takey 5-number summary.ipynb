{
 "cells": [
  {
   "cell_type": "markdown",
   "metadata": {},
   "source": [
    "# Introduction\n",
    "<hr style=\"border:2px solid black\"> </hr>"
   ]
  },
  {
   "cell_type": "markdown",
   "metadata": {},
   "source": [
    "\n",
    "**What?** Takey 5-number summary\n",
    "\n",
""   ]
  },
  {
   "cell_type": "markdown",
   "metadata": {},
   "source": [
    "# What is a 5-number summary?\n",
    "<hr style=\"border:2px solid black\"> </hr>"
   ]
  },
  {
   "cell_type": "markdown",
   "metadata": {},
   "source": [
    "\n",
    "- You have two scenarios: normal or non normal distribution.\n",
    "- The distibution is **Gaussian** and the mean plus std deviation is enough to parametrise it. \n",
    "\n",
    "\n",
    "- The distribution is **not Gaussian**. In this case we can use 5 numbers to describe it:\n",
    "    - **Median**: The middle value in the sample, also called the 50th percentile or the 2nd quartile. \n",
    "    - **1st Quartile**: The 25th percentile. \n",
    "    - **3rd Quartile**: The 75th percentile. \n",
    "    - **Minimum**: The smallest observation in the sample. \n",
    "    - **Maximum**: The largest observation in the sample. \n",
    "        \n",
    "        \n",
    "- **Parametrise** is here used as a synonym of characterise/describe.\n",
    "- Also striclty speaking quantile is not the same thing as percentile.\n",
    "\n",
""   ]
  },
  {
   "cell_type": "markdown",
   "metadata": {},
   "source": [
    "# Import modules\n",
    "<hr style=\"border:2px solid black\"> </hr>"
   ]
  },
  {
   "cell_type": "code",
   "execution_count": 4,
   "metadata": {},
   "outputs": [],
   "source": [
    "from numpy import percentile\n",
    "from numpy.random import seed, rand"
   ]
  },
  {
   "cell_type": "markdown",
   "metadata": {},
   "source": [
    "# Example\n",
    "<hr style=\"border:2px solid black\"> </hr>"
   ]
  },
  {
   "cell_type": "code",
   "execution_count": 6,
   "metadata": {},
   "outputs": [
    {
     "name": "stdout",
     "output_type": "stream",
     "text": [
      "Min: 0.0001\n",
      "Q1: 0.2519\n",
      "Median: 0.5075\n",
      "Q3: 0.7507\n",
      "Max: 0.9973\n"
     ]
    }
   ],
   "source": [
    "seed(1)\n",
    "# Random samplpe\n",
    "data = rand(1000)\n",
    "# calculate quartiles\n",
    "quartiles = percentile(data, [25, 50, 75])\n",
    "# calculate min/max\n",
    "data_min, data_max = data.min(), data.max() \n",
    "# display 5-number summary\n",
    "print('Min: %.4f' % data_min)\n",
    "print('Q1: %.4f' % quartiles[0]) \n",
    "print('Median: %.4f' % quartiles[1]) \n",
    "print('Q3: %.4f' % quartiles[2]) \n",
    "print('Max: %.4f' % data_max)"
   ]
  },
  {
   "cell_type": "code",
   "execution_count": null,
   "metadata": {},
   "outputs": [],
   "source": []
  }
 ],
 "metadata": {
  "hide_input": false,
  "kernelspec": {
   "display_name": "trainingAI",
   "language": "python",
   "name": "trainingai"
  },
  "language_info": {
   "codemirror_mode": {
    "name": "ipython",
    "version": 3
   },
   "file_extension": ".py",
   "mimetype": "text/x-python",
   "name": "python",
   "nbconvert_exporter": "python",
   "pygments_lexer": "ipython3",
   "version": "3.8.5"
  }
 },
 "nbformat": 4,
 "nbformat_minor": 2
}
