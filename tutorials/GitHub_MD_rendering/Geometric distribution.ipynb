{
 "cells": [
  {
   "cell_type": "markdown",
   "metadata": {},
   "source": [
    "# Introduction"
   ]
  },
  {
   "cell_type": "markdown",
   "metadata": {},
   "source": [
    "\n",
    "**What?** Geometric distribution\n",
    "\n",
""   ]
  },
  {
   "cell_type": "markdown",
   "metadata": {},
   "source": [
    "# Geometric Distribution"
   ]
  },
  {
   "cell_type": "markdown",
   "metadata": {},
   "source": [
    "\n",
    "\n",
    "Geometric Distribution measures number of trials needed to get a first success in repeated Bernoulli trials. \n",
    "So suppose we have some independent trials and each trial results in one of two possible outcomes success or failure. And our probability of success is denoted by P(success) = $p$, this number stays constant from trial to trial and $X$ represents the number of trials needed to get the first success.\n",
    "\n",
    "For the first success to occur on the $x_{th}$ trial:\n",
    "\n",
    "- The first $x - 1$ trial must be failures.\n",
    "- The $x_{th}$ trial must be a success.\n",
    "\n",
    "This gives us the probability mass function of the geometric distribution:\n",
    "\n",
    "\\begin{align}\n",
    "P(X = x) = (1 - p)^{x - 1}p\n",
    "\\end{align}\n",
    "\n",
    "For the geometric distribution the minimum number $x$ can take is 1, however, there is no upper bound to that number.\n",
    "\n",
    "Last but not least, one useful property to know about the geometric distribution is variable X's mean/expectation is:\n",
    "\n",
    "\\begin{align}\n",
    "\\frac{1}{p}\n",
    "\\end{align}\n",
    "\n",
""   ]
  },
  {
   "cell_type": "markdown",
   "metadata": {},
   "source": [
    "# Import modules"
   ]
  },
  {
   "cell_type": "code",
   "execution_count": 2,
   "metadata": {},
   "outputs": [],
   "source": [
    "from scipy.stats import geom"
   ]
  },
  {
   "cell_type": "markdown",
   "metadata": {},
   "source": [
    "# Example"
   ]
  },
  {
   "cell_type": "markdown",
   "metadata": {},
   "source": [
    "\n",
    "- In a large populations of adults, **30%** have received CPR training.\n",
    "- If adults from this population are randomly selected, what is the probability that the **6th** person sampled is the first that has received CPR training?\n",
    "\n",
""   ]
  },
  {
   "cell_type": "code",
   "execution_count": 5,
   "metadata": {},
   "outputs": [
    {
     "name": "stdout",
     "output_type": "stream",
     "text": [
      "0.05042099999999998\n",
      "0.05042099999999998\n",
      "0.3\n"
     ]
    }
   ],
   "source": [
    "# Manually\n",
    "p = 0.3\n",
    "prob = (1 - p) ** 5 * p\n",
    "print(prob)\n",
    "\n",
    "# Scipy stats' geometric distribution\n",
    "print(geom(p = p).pmf(k = 6))\n",
    "print(geom(p = p).pmf(k = 1))"
   ]
  },
  {
   "cell_type": "code",
   "execution_count": null,
   "metadata": {},
   "outputs": [],
   "source": []
  }
 ],
 "metadata": {
  "kernelspec": {
   "display_name": "trainingAI",
   "language": "python",
   "name": "trainingai"
  },
  "language_info": {
   "codemirror_mode": {
    "name": "ipython",
    "version": 3
   },
   "file_extension": ".py",
   "mimetype": "text/x-python",
   "name": "python",
   "nbconvert_exporter": "python",
   "pygments_lexer": "ipython3",
   "version": "3.8.5"
  }
 },
 "nbformat": 4,
 "nbformat_minor": 2
}
