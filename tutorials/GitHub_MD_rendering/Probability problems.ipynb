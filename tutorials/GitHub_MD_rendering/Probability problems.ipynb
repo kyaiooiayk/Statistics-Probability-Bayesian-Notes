{
 "cells": [
  {
   "cell_type": "markdown",
   "id": "0389e331",
   "metadata": {
    "toc": true
   },
   "source": [
    "<h1>Table of Contents<span class=\"tocSkip\"></span></h1>\n",
""   ]
  },
  {
   "cell_type": "markdown",
   "id": "25e0ed57",
   "metadata": {},
   "source": [
    "# Introduction\n",
    "<hr style = \"border:2px solid black\" ></hr>"
   ]
  },
  {
   "cell_type": "markdown",
   "id": "99e2b6f5",
   "metadata": {},
   "source": [
    "\n",
    "**What?** Probability problems\n",
    "\n",
""   ]
  },
  {
   "cell_type": "markdown",
   "id": "a87e30cd",
   "metadata": {},
   "source": [
    "# Imports\n",
    "<hr style = \"border:2px solid black\" ></hr>"
   ]
  },
  {
   "cell_type": "code",
   "execution_count": 12,
   "id": "67ceab07",
   "metadata": {
    "ExecuteTime": {
     "end_time": "2022-07-30T15:51:19.804175Z",
     "start_time": "2022-07-30T15:51:19.055987Z"
    }
   },
   "outputs": [],
   "source": [
    "import numpy as np\n",
    "import matplotlib.pyplot as plt\n",
    "from scipy import stats\n",
    "import seaborn as sns"
   ]
  },
  {
   "cell_type": "markdown",
   "id": "5799dd3c",
   "metadata": {},
   "source": [
    "# Problem #1\n",
    "<hr style = \"border:2px solid black\" ></hr>"
   ]
  },
  {
   "cell_type": "markdown",
   "id": "66d66e5d",
   "metadata": {},
   "source": [
    "    \n",
    "- In a single toss of 2 fair (evenly-weighted) 6-sided dice, find the probability of that their sum will be at most 9.\n",
    "\n",
    "- https://www.hackerrank.com/challenges/basic-probability-puzzles-1\n",
    "- https://en.wikipedia.org/wiki/Probability\n",
    "    \n",
    "\n",
    "- There are 6 possibilities on each die. On 2 dice, there are 6 * 6 = 36 possibilities\n",
    "- There are 30 cases where sum <= 9 and we can find this in python loop.\n",
    "- The final probability will be: no_cases/no_of_possible_scenarios = 30/36\n",
    "\n",
""   ]
  },
  {
   "cell_type": "code",
   "execution_count": 28,
   "id": "05ead14f",
   "metadata": {
    "ExecuteTime": {
     "end_time": "2023-02-23T16:31:58.096965Z",
     "start_time": "2023-02-23T16:31:58.092835Z"
    }
   },
   "outputs": [
    {
     "name": "stdout",
     "output_type": "stream",
     "text": [
      "Probability:  30 / 36 = 0.8333333333333334\n"
     ]
    }
   ],
   "source": [
    "# How many possible autocome are there?\n",
    "values = 6\n",
    "# Probability of each outcome:\n",
    "probability = 1/6\n",
    "\n",
    "# Initialise\n",
    "counter = 0\n",
    "\n",
    "# First dice\n",
    "for i in range(1, values + 1):\n",
    "    # Second dice\n",
    "    for j in range(1, values + 1):\n",
    "        # Verify if each die will be different and their sum is 6\n",
    "        if (i + j) <= 9:\n",
    "            counter +=1 \n",
    "\n",
    "# Final probability found\n",
    "print(\"Probability: \", counter, \"/\", values**2, \"=\", counter/values**2)"
   ]
  },
  {
   "cell_type": "markdown",
   "id": "3c4ef8b4",
   "metadata": {
    "ExecuteTime": {
     "end_time": "2023-02-23T16:29:40.904265Z",
     "start_time": "2023-02-23T16:29:40.901356Z"
    }
   },
   "source": [
    "# Problem #2\n",
    "<hr style = \"border:2px solid black\" ></hr>"
   ]
  },
  {
   "cell_type": "markdown",
   "id": "f742b4ed",
   "metadata": {},
   "source": [
    "    \n",
    "- For a single toss of 2 fair (evenly-weighted) dice, find the probability that the values rolled by each die will be different and their sum is 6.\n",
    "- https://www.hackerrank.com/challenges/basic-probability-puzzles-2\n",
    "\n",
    "\n",
    "- There are 6 possibilities on each die. On 2 dice, there are 6 * 6 = 36 possibilities\n",
    "- There are 11 cases where sum <= 9 and we can find this in python loop.\n",
    "- The final probability will be: no_cases/no_of_possible_scenarios = 11/36\n",
    "                                  \n",
""   ]
  },
  {
   "cell_type": "code",
   "execution_count": 30,
   "id": "4ef960f2",
   "metadata": {
    "ExecuteTime": {
     "end_time": "2023-02-23T16:32:26.222449Z",
     "start_time": "2023-02-23T16:32:26.218183Z"
    }
   },
   "outputs": [
    {
     "name": "stdout",
     "output_type": "stream",
     "text": [
      "Probability:  4 / 36 = 0.1111111111111111\n"
     ]
    }
   ],
   "source": [
    "# How many possible autocome are there?\n",
    "values = 6\n",
    "# Probability of each outcome:\n",
    "probability = 1/6\n",
    "\n",
    "# Initialise\n",
    "counter = 0\n",
    "\n",
    "# First dice\n",
    "for i in range(1, values + 1):\n",
    "    # Second dice\n",
    "    for j in range(1, values + 1):\n",
    "        # Verify if each die will be different and their sum is 6\n",
    "        if i != j and i+j == 6:\n",
    "            counter += 1\n",
    "            \n",
    "# Final probability found\n",
    "print(\"Probability: \", counter, \"/\", values**2, \"=\", counter/values**2)         "
   ]
  },
  {
   "cell_type": "markdown",
   "id": "1b166e27",
   "metadata": {},
   "source": [
    "# Problem #3\n",
    "<hr style = \"border:2px solid black\" ></hr>"
   ]
  },
  {
   "cell_type": "markdown",
   "id": "02ceb812",
   "metadata": {},
   "source": [
    "    \n",
    "- There are 3 urns: X, Y and Z.\n",
    "    - Urn X contains 4 red balls and 3 black balls.\n",
    "    - Urn Y contains 5 red balls and 4 black balls.\n",
    "    - Urn Z contains 4 red balls and 4 black balls.\n",
    "- One ball is drawn from each urn. What is the probability that the 3 balls drawn consist of 2 red balls and 1 black ball?\n",
    "- https://www.hackerrank.com/challenges/basic-probability-puzzles-3\n",
    "\n",
    "\n",
    "- First compute the probability of red/black for each urn.\n",
    "- There are three scenarios where you have 2 red balls: RRB, RBR, BRR where you have to multiply the probabilities\n",
    "- The sum the probability of the three scenarios.\n",
    "- Which is the probability of the union of disjoint events each formed from the intersection of independent events.\n",
    "                                  \n",
""   ]
  },
  {
   "cell_type": "code",
   "execution_count": 33,
   "id": "35918674",
   "metadata": {
    "ExecuteTime": {
     "end_time": "2023-02-23T16:48:01.160258Z",
     "start_time": "2023-02-23T16:48:01.156240Z"
    }
   },
   "outputs": [
    {
     "name": "stdout",
     "output_type": "stream",
     "text": [
      "0.40476190476190477\n"
     ]
    }
   ],
   "source": [
    "x_prob_red = 4/7\n",
    "x_prob_black = 3/7\n",
    "\n",
    "y_prob_red = 5/9\n",
    "y_prob_black = 4/9\n",
    "\n",
    "z_prob_red = 1/2\n",
    "z_prob_black = 1/2\n",
    "\n",
    "# We have to multiply the possibilities as they are independent from each other\n",
    "# keep in mind two must be red all the time\n",
    "first_combination = x_prob_red * y_prob_red * z_prob_black\n",
    "second_combination = x_prob_black * y_prob_red * z_prob_red\n",
    "third_combination = x_prob_red * y_prob_black * z_prob_red\n",
    "\n",
    "print(first_combination + second_combination + third_combination)"
   ]
  },
  {
   "cell_type": "code",
   "execution_count": 32,
   "id": "5c0aef96",
   "metadata": {
    "ExecuteTime": {
     "end_time": "2023-02-23T16:39:29.900573Z",
     "start_time": "2023-02-23T16:39:29.896310Z"
    }
   },
   "outputs": [
    {
     "data": {
      "text/plain": [
       "100.8"
      ]
     },
     "execution_count": 32,
     "metadata": {},
     "output_type": "execute_result"
    }
   ],
   "source": [
    "(2/(3/4 * 5/9 * 1/2)) *(1/ (3/7 * 4/9 * 1/2))"
   ]
  },
  {
   "cell_type": "markdown",
   "id": "1b01ce53",
   "metadata": {},
   "source": [
    "# Problem #4\n",
    "<hr style = \"border:2px solid black\" ></hr>"
   ]
  },
  {
   "cell_type": "markdown",
   "id": "8abcf73d",
   "metadata": {},
   "source": [
    "    \n",
    "\n",
    "- Bag1 contains 4 red balls and 5 black balls. \n",
    "- Bag2 contains 3 red balls and 7 black balls. \n",
    "- If one ball is drawn from the Bag1, and 2 balls are drawn from  Bag2, find the probability that 2 balls are black and 1 ball is red.\n",
    "- https://www.hackerrank.com/challenges/basic-probability-puzzles-4\n",
    "\n",
    "                                  \n",
""   ]
  },
  {
   "cell_type": "code",
   "execution_count": 39,
   "id": "c8acd81c",
   "metadata": {
    "ExecuteTime": {
     "end_time": "2023-02-23T17:12:50.335354Z",
     "start_time": "2023-02-23T17:12:50.331129Z"
    }
   },
   "outputs": [
    {
     "name": "stdout",
     "output_type": "stream",
     "text": [
      "0.4511111111111111\n"
     ]
    }
   ],
   "source": [
    "# Compute individual probability on bag1\n",
    "bag1r = 4/9\n",
    "bag1b = 5/9\n",
    "\n",
    "# Compute individual probability on bag1\n",
    "bag2r = 3/10\n",
    "bag2b = 7/10\n",
    "\n",
    "# Combinations\n",
    "# Bag1  | Bag2  | Bag2\n",
    "# black | black | red\n",
    "# black | red   | black\n",
    "# red   | black  | black\n",
    "\n",
    "first_combination = bag1b * bag2b * bag2r\n",
    "second_combination = bag1b * bag2r * bag2b\n",
    "third_combination = bag1r * bag2b * bag2b\n",
    "\n",
    "print(first_combination + second_combination + third_combination)"
   ]
  },
  {
   "cell_type": "markdown",
   "id": "97306335",
   "metadata": {
    "ExecuteTime": {
     "end_time": "2023-02-23T17:13:59.568909Z",
     "start_time": "2023-02-23T17:13:59.565126Z"
    }
   },
   "source": [
    "# Problem #5\n",
    "<hr style = \"border:2px solid black\" ></hr>"
   ]
  },
  {
   "cell_type": "markdown",
   "id": "ecbe8d3f",
   "metadata": {},
   "source": [
    "\n",
    "- There are 10 people about to sit down around a round table. \n",
    "- Find the probability that 2 particular people will sit next to one another.\n",
    "- https://www.hackerrank.com/challenges/basic-probability-puzzles-5\n",
    "\n",
""   ]
  },
  {
   "cell_type": "code",
   "execution_count": 45,
   "id": "fda24949",
   "metadata": {
    "ExecuteTime": {
     "end_time": "2023-02-23T17:23:31.221122Z",
     "start_time": "2023-02-23T17:23:31.216866Z"
    }
   },
   "outputs": [
    {
     "data": {
      "text/plain": [
       "0.2222222222222222"
      ]
     },
     "execution_count": 45,
     "metadata": {},
     "output_type": "execute_result"
    }
   ],
   "source": [
    "# One person will sit, leaving nine positions. Each position has two \n",
    "# seats, one on the left side and one on the right side. \n",
    "all_scenarios = 10-1\n",
    "left_plus_right_seat = 2\n",
    "left_plus_right_seat/all_scenarios "
   ]
  },
  {
   "cell_type": "markdown",
   "id": "f3c21b44",
   "metadata": {},
   "source": [
    "# Problem #6\n",
    "<hr style = \"border:2px solid black\" ></hr>"
   ]
  },
  {
   "cell_type": "markdown",
   "id": "5c58a044",
   "metadata": {
    "ExecuteTime": {
     "end_time": "2023-02-23T17:29:52.536002Z",
     "start_time": "2023-02-23T17:29:52.531310Z"
    }
   },
   "source": [
    "\n",
    "- Bag X contains 5 white balls and 4 black balls. \n",
    "- Bag Y contains 7 white balls and 6 black balls. \n",
    "You draw 1 ball from bag X and, without observing its color, put it into bag Y. \n",
    "- Now, if a ball is drawn from bag Y, find the probability that it is black.\n",
    "\n",
    "- https://www.hackerrank.com/challenges/basic-probability-puzzles-6\n",
    "- https://www.quora.com/A-bag-contains-5-white-balls-and-4-black-balls-and-another-contains-3-white-balls-and-2-black-balls-One-ball-is-drawn-from-the-1st-bag-and-placed-unseen-in-the-2nd-bag-What-is-the-probability-that-a-ball-now-drawn\n",
    "    \n",
""   ]
  },
  {
   "cell_type": "code",
   "execution_count": 49,
   "id": "8323b682",
   "metadata": {
    "ExecuteTime": {
     "end_time": "2023-02-23T18:44:40.811886Z",
     "start_time": "2023-02-23T18:44:40.807902Z"
    }
   },
   "outputs": [
    {
     "data": {
      "text/plain": [
       "126"
      ]
     },
     "execution_count": 49,
     "metadata": {},
     "output_type": "execute_result"
    }
   ],
   "source": [
    "14*9"
   ]
  },
  {
   "cell_type": "code",
   "execution_count": 53,
   "id": "39af455e",
   "metadata": {
    "ExecuteTime": {
     "end_time": "2023-02-23T18:59:22.482944Z",
     "start_time": "2023-02-23T18:59:22.479235Z"
    }
   },
   "outputs": [
    {
     "name": "stdout",
     "output_type": "stream",
     "text": [
      "0.4603174603174603\n"
     ]
    }
   ],
   "source": [
    "# there are two scenarios\n",
    "# pick a white ball + pick a black ball\n",
    "# P(Y = b | X = w) * P(X = w) + P(Y = b | X = b) + P(X = b)\n",
    "# probability of chosing black from Y given that we draw a white from X \n",
    "# plus\n",
    "# probability of chosing black from Y given that we draw a black from X \n",
    "# (6/14 * 5/9) + (7=(6+1)/14 * 4/9) = 29/63 = 0.46031746\n",
    "\n",
    "print((6/14 * 5/9) + (7/14 * 4/9))"
   ]
  },
  {
   "cell_type": "markdown",
   "id": "96b2dbf1",
   "metadata": {},
   "source": [
    "# References\n",
    "<hr style = \"border:2px solid black\" ></hr>"
   ]
  },
  {
   "cell_type": "markdown",
   "id": "3e1f31f4",
   "metadata": {},
   "source": [
    "\n",
    "- https://towardsdatascience.com/probability-distributions-to-be-aware-of-for-data-science-with-code-c4a6bb8b0e9a\n",
    "\n",
""   ]
  },
  {
   "cell_type": "code",
   "execution_count": null,
   "id": "9af48f74",
   "metadata": {},
   "outputs": [],
   "source": []
  }
 ],
 "metadata": {
  "kernelspec": {
   "display_name": "trainingAI",
   "language": "python",
   "name": "trainingai"
  },
  "language_info": {
   "codemirror_mode": {
    "name": "ipython",
    "version": 3
   },
   "file_extension": ".py",
   "mimetype": "text/x-python",
   "name": "python",
   "nbconvert_exporter": "python",
   "pygments_lexer": "ipython3",
   "version": "3.9.7"
  },
  "toc": {
   "base_numbering": 1,
   "nav_menu": {},
   "number_sections": true,
   "sideBar": true,
   "skip_h1_title": false,
   "title_cell": "Table of Contents",
   "title_sidebar": "Contents",
   "toc_cell": true,
   "toc_position": {},
   "toc_section_display": true,
   "toc_window_display": true
  },
  "varInspector": {
   "cols": {
    "lenName": 16,
    "lenType": 16,
    "lenVar": 40
   },
   "kernels_config": {
    "python": {
     "delete_cmd_postfix": "",
     "delete_cmd_prefix": "del ",
     "library": "var_list.py",
     "varRefreshCmd": "print(var_dic_list())"
    },
    "r": {
     "delete_cmd_postfix": ") ",
     "delete_cmd_prefix": "rm(",
     "library": "var_list.r",
     "varRefreshCmd": "cat(var_dic_list()) "
    }
   },
   "types_to_exclude": [
    "module",
    "function",
    "builtin_function_or_method",
    "instance",
    "_Feature"
   ],
   "window_display": false
  }
 },
 "nbformat": 4,
 "nbformat_minor": 5
}
